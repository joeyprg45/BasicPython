{
 "cells": [
  {
   "cell_type": "markdown",
   "metadata": {},
   "source": [
    "# Numpyの確認課題"
   ]
  },
  {
   "cell_type": "markdown",
   "metadata": {},
   "source": [
    "## 必要モジュールのインポート\n",
    "\n",
    "この問題で使うモジュールをインポートします．"
   ]
  },
  {
   "cell_type": "code",
   "execution_count": 2,
   "metadata": {},
   "outputs": [],
   "source": [
    "import matplotlib.pyplot as plt\n",
    "import numpy as np\n",
    "\n",
    "np.random.seed(0)"
   ]
  },
  {
   "cell_type": "markdown",
   "metadata": {},
   "source": [
    "---"
   ]
  },
  {
   "cell_type": "markdown",
   "metadata": {},
   "source": [
    "### 問1. `ndarray`の生成\n",
    "\n",
    "以下の2つの`ndarray`を定義しなさい．\n",
    "- 観測値 `x`: 初項`0`，末項`5`，項数`100`の等差数列\n",
    "- ノイズ `noise`: 標準正規分布に従う`100`個の乱数"
   ]
  },
  {
   "cell_type": "code",
   "execution_count": 25,
   "metadata": {},
   "outputs": [
    {
     "name": "stdout",
     "output_type": "stream",
     "text": [
      "観測値 x: [0.         0.05050505 0.1010101  0.15151515 0.2020202  0.25252525\n",
      " 0.3030303  0.35353535 0.4040404  0.45454545 0.50505051 0.55555556\n",
      " 0.60606061 0.65656566 0.70707071 0.75757576 0.80808081 0.85858586\n",
      " 0.90909091 0.95959596 1.01010101 1.06060606 1.11111111 1.16161616\n",
      " 1.21212121 1.26262626 1.31313131 1.36363636 1.41414141 1.46464646\n",
      " 1.51515152 1.56565657 1.61616162 1.66666667 1.71717172 1.76767677\n",
      " 1.81818182 1.86868687 1.91919192 1.96969697 2.02020202 2.07070707\n",
      " 2.12121212 2.17171717 2.22222222 2.27272727 2.32323232 2.37373737\n",
      " 2.42424242 2.47474747 2.52525253 2.57575758 2.62626263 2.67676768\n",
      " 2.72727273 2.77777778 2.82828283 2.87878788 2.92929293 2.97979798\n",
      " 3.03030303 3.08080808 3.13131313 3.18181818 3.23232323 3.28282828\n",
      " 3.33333333 3.38383838 3.43434343 3.48484848 3.53535354 3.58585859\n",
      " 3.63636364 3.68686869 3.73737374 3.78787879 3.83838384 3.88888889\n",
      " 3.93939394 3.98989899 4.04040404 4.09090909 4.14141414 4.19191919\n",
      " 4.24242424 4.29292929 4.34343434 4.39393939 4.44444444 4.49494949\n",
      " 4.54545455 4.5959596  4.64646465 4.6969697  4.74747475 4.7979798\n",
      " 4.84848485 4.8989899  4.94949495 5.        ]\n",
      "(100,)\n",
      "ノイズ noise: [-0.59865394 -1.11589699  0.76666318  0.35629282 -1.76853845  0.35548179\n",
      "  0.81451982  0.05892559 -0.18505367 -0.80764849 -1.4465347   0.80029795\n",
      " -0.30911444 -0.23346666  1.73272119  0.68450111  0.370825    0.14206181\n",
      "  1.51999486  1.71958931  0.92950511  0.58222459 -2.09460307  0.12372191\n",
      " -0.13010695  0.09395323  0.94304609 -2.73967717 -0.56931205  0.26990435\n",
      " -0.46684555 -1.41690611  0.86896349  0.27687191 -0.97110457  0.3148172\n",
      "  0.82158571  0.00529265  0.8005648   0.07826018 -0.39522898 -1.15942052\n",
      " -0.08593077  0.19429294  0.87583276 -0.11510747  0.45741561 -0.96461201\n",
      " -0.78262916 -0.1103893  -1.05462846  0.82024784  0.46313033  0.27909576\n",
      "  0.33890413  2.02104356 -0.46886419 -2.20144129  0.1993002  -0.05060354\n",
      " -0.51751904 -0.97882986 -0.43918952  0.18133843 -0.5028167   2.41245368\n",
      " -0.96050438 -0.79311736 -2.28862004  0.25148442 -2.01640663 -0.53945463\n",
      " -0.27567053 -0.70972797  1.73887268  0.99439439  1.31913688 -0.88241882\n",
      "  1.12859406  0.49600095  0.77140595  1.02943883 -0.90876325 -0.42431762\n",
      "  0.86259601 -2.65561909  1.51332808  0.55313206 -0.04570396  0.22050766\n",
      " -1.02993528 -0.34994336  1.10028434  1.29802197  2.69622405 -0.07392467\n",
      " -0.65855297 -0.51423397 -1.01804188 -0.07785476]\n",
      "(100,)\n"
     ]
    }
   ],
   "source": [
    "\n",
    "import numpy as np\n",
    "\n",
    "x = np.linspace(0, 5, 100)\n",
    "\n",
    "noise = np.random.normal(0, 1, 100)\n",
    "\n",
    "print(\"観測値 x:\", x)\n",
    "print(x.shape)\n",
    "\n",
    "print(\"ノイズ noise:\", noise)\n",
    "print(noise.shape)\n"
   ]
  },
  {
   "cell_type": "markdown",
   "metadata": {},
   "source": [
    "---"
   ]
  },
  {
   "cell_type": "markdown",
   "metadata": {},
   "source": [
    "ここで，真の関数 $y(x) = 3 - 5x + x^2$ を定義します．"
   ]
  },
  {
   "cell_type": "code",
   "execution_count": 4,
   "metadata": {},
   "outputs": [],
   "source": [
    "def y(x):\n",
    "    \"\"\"真の関数\"\"\"\n",
    "    return 3 - 5 * x + x ** 2\n"
   ]
  },
  {
   "cell_type": "markdown",
   "metadata": {},
   "source": [
    "### 問2． `ndarray`の操作\n",
    "\n",
    "問1で生成した観測値 `x` に対応する目標値 `t` を定義しなさい．\n",
    "\n",
    "目標値 $t$ は， $t = y(x) + \\epsilon$ と表されます．  ( $y$: 真の関数, $\\epsilon$: ノイズ )  \n",
    "実際の観測値にはどうしてもノイズ(観測誤差)が発生してしまいます．今回は，それを`noise`で再現します．\n",
    "\n",
    "問1で観測値を100個生成したので，それぞれに対応する目標値も100個作成する必要がありますが， `for` 文は絶対使ってはいけません．"
   ]
  },
  {
   "cell_type": "code",
   "execution_count": 13,
   "metadata": {},
   "outputs": [
    {
     "name": "stdout",
     "output_type": "stream",
     "text": [
      "[ 4.76405235  3.15018272  3.48389052  4.50627428  3.89826914  0.82386486\n",
      "  2.52676427  1.20595327  1.03982778  1.3444828   0.87386706  1.9851377\n",
      "  1.09804415  0.2699252   0.40845868  0.11971657  1.10666963 -0.76091788\n",
      " -0.40594056 -1.73125113 -3.58319082 -0.52452649 -0.45655146 -2.20089372\n",
      "  0.6783864  -3.17327191 -1.7955842  -2.14586154 -0.53813192 -0.70868429\n",
      " -2.12512604 -1.99883983 -3.35661546 -4.53635202 -2.98509203 -2.55735371\n",
      " -1.55483329 -1.64906388 -3.29998879 -3.27108145 -4.06834686 -4.48572552\n",
      " -4.81278993 -1.19145499 -3.68249169 -3.63642141 -4.47154855 -2.45656739\n",
      " -4.85815864 -3.46210259 -4.14482887 -2.85735829 -3.74486289 -4.39938537\n",
      " -3.22652934 -2.74450764 -3.07571316 -2.80404785 -3.70002967 -3.38253506\n",
      " -3.64123914 -3.27221513 -3.66459001 -4.51140657 -2.53627654 -3.03896082\n",
      " -4.1857539  -2.00604746 -3.28430071 -2.22812807 -1.44895249 -1.94192822\n",
      " -0.819277   -3.07616854 -1.31656459 -2.27617832 -2.32952585 -1.89983732\n",
      " -1.48969762 -0.97403566 -2.04230523  0.18181822 -0.09009718 -1.92365313\n",
      "  1.27429443  1.86048463  1.32702975  0.15708159 -0.53988842  1.78427521\n",
      "  0.53070735  2.3654917   1.56558546  2.55331489  2.15750914  2.73728432\n",
      "  2.2758811   4.29102303  2.8769376   3.40198936]\n"
     ]
    }
   ],
   "source": [
    "\n",
    "def Ans(a,b):\n",
    "  ANS = a + b\n",
    "  return ANS\n",
    "\n",
    "\n",
    "t= Ans(y(x),noise)\n",
    "print(t)"
   ]
  },
  {
   "cell_type": "markdown",
   "metadata": {},
   "source": [
    "matplotlib で可視化すると以下のようなグラフになります．\n",
    "scatter → 散布図"
   ]
  },
  {
   "cell_type": "code",
   "execution_count": 16,
   "metadata": {},
   "outputs": [
    {
     "data": {
      "text/plain": [
       "<matplotlib.collections.PathCollection at 0x248771d45d0>"
      ]
     },
     "execution_count": 16,
     "metadata": {},
     "output_type": "execute_result"
    },
    {
     "data": {
      "image/png": "[encoded data removed]",
      "text/plain": [
       "<Figure size 640x480 with 1 Axes>"
      ]
     },
     "metadata": {},
     "output_type": "display_data"
    }
   ],
   "source": [
    "plt.scatter(x, t)"
   ]
  },
  {
   "cell_type": "markdown",
   "metadata": {},
   "source": [
    "---"
   ]
  },
  {
   "cell_type": "code",
   "execution_count": 27,
   "metadata": {},
   "outputs": [
    {
     "name": "stdout",
     "output_type": "stream",
     "text": [
      "[[1.00000000e+00 1.00000000e+00 1.00000000e+00 1.00000000e+00\n",
      "  1.00000000e+00 1.00000000e+00 1.00000000e+00 1.00000000e+00\n",
      "  1.00000000e+00 1.00000000e+00 1.00000000e+00 1.00000000e+00\n",
      "  1.00000000e+00 1.00000000e+00 1.00000000e+00 1.00000000e+00\n",
      "  1.00000000e+00 1.00000000e+00 1.00000000e+00 1.00000000e+00\n",
      "  1.00000000e+00 1.00000000e+00 1.00000000e+00 1.00000000e+00\n",
      "  1.00000000e+00 1.00000000e+00 1.00000000e+00 1.00000000e+00\n",
      "  1.00000000e+00 1.00000000e+00 1.00000000e+00 1.00000000e+00\n",
      "  1.00000000e+00 1.00000000e+00 1.00000000e+00 1.00000000e+00\n",
      "  1.00000000e+00 1.00000000e+00 1.00000000e+00 1.00000000e+00\n",
      "  1.00000000e+00 1.00000000e+00 1.00000000e+00 1.00000000e+00\n",
      "  1.00000000e+00 1.00000000e+00 1.00000000e+00 1.00000000e+00\n",
      "  1.00000000e+00 1.00000000e+00 1.00000000e+00 1.00000000e+00\n",
      "  1.00000000e+00 1.00000000e+00 1.00000000e+00 1.00000000e+00\n",
      "  1.00000000e+00 1.00000000e+00 1.00000000e+00 1.00000000e+00\n",
      "  1.00000000e+00 1.00000000e+00 1.00000000e+00 1.00000000e+00\n",
      "  1.00000000e+00 1.00000000e+00 1.00000000e+00 1.00000000e+00\n",
      "  1.00000000e+00 1.00000000e+00 1.00000000e+00 1.00000000e+00\n",
      "  1.00000000e+00 1.00000000e+00 1.00000000e+00 1.00000000e+00\n",
      "  1.00000000e+00 1.00000000e+00 1.00000000e+00 1.00000000e+00\n",
      "  1.00000000e+00 1.00000000e+00 1.00000000e+00 1.00000000e+00\n",
      "  1.00000000e+00 1.00000000e+00 1.00000000e+00 1.00000000e+00\n",
      "  1.00000000e+00 1.00000000e+00 1.00000000e+00 1.00000000e+00\n",
      "  1.00000000e+00 1.00000000e+00 1.00000000e+00 1.00000000e+00\n",
      "  1.00000000e+00 1.00000000e+00 1.00000000e+00 1.00000000e+00]\n",
      " [0.00000000e+00 5.05050505e-02 1.01010101e-01 1.51515152e-01\n",
      "  2.02020202e-01 2.52525253e-01 3.03030303e-01 3.53535354e-01\n",
      "  4.04040404e-01 4.54545455e-01 5.05050505e-01 5.55555556e-01\n",
      "  6.06060606e-01 6.56565657e-01 7.07070707e-01 7.57575758e-01\n",
      "  8.08080808e-01 8.58585859e-01 9.09090909e-01 9.59595960e-01\n",
      "  1.01010101e+00 1.06060606e+00 1.11111111e+00 1.16161616e+00\n",
      "  1.21212121e+00 1.26262626e+00 1.31313131e+00 1.36363636e+00\n",
      "  1.41414141e+00 1.46464646e+00 1.51515152e+00 1.56565657e+00\n",
      "  1.61616162e+00 1.66666667e+00 1.71717172e+00 1.76767677e+00\n",
      "  1.81818182e+00 1.86868687e+00 1.91919192e+00 1.96969697e+00\n",
      "  2.02020202e+00 2.07070707e+00 2.12121212e+00 2.17171717e+00\n",
      "  2.22222222e+00 2.27272727e+00 2.32323232e+00 2.37373737e+00\n",
      "  2.42424242e+00 2.47474747e+00 2.52525253e+00 2.57575758e+00\n",
      "  2.62626263e+00 2.67676768e+00 2.72727273e+00 2.77777778e+00\n",
      "  2.82828283e+00 2.87878788e+00 2.92929293e+00 2.97979798e+00\n",
      "  3.03030303e+00 3.08080808e+00 3.13131313e+00 3.18181818e+00\n",
      "  3.23232323e+00 3.28282828e+00 3.33333333e+00 3.38383838e+00\n",
      "  3.43434343e+00 3.48484848e+00 3.53535354e+00 3.58585859e+00\n",
      "  3.63636364e+00 3.68686869e+00 3.73737374e+00 3.78787879e+00\n",
      "  3.83838384e+00 3.88888889e+00 3.93939394e+00 3.98989899e+00\n",
      "  4.04040404e+00 4.09090909e+00 4.14141414e+00 4.19191919e+00\n",
      "  4.24242424e+00 4.29292929e+00 4.34343434e+00 4.39393939e+00\n",
      "  4.44444444e+00 4.49494949e+00 4.54545455e+00 4.59595960e+00\n",
      "  4.64646465e+00 4.69696970e+00 4.74747475e+00 4.79797980e+00\n",
      "  4.84848485e+00 4.89898990e+00 4.94949495e+00 5.00000000e+00]\n",
      " [0.00000000e+00 2.55076013e-03 1.02030405e-02 2.29568411e-02\n",
      "  4.08121620e-02 6.37690032e-02 9.18273646e-02 1.24987246e-01\n",
      "  1.63248648e-01 2.06611570e-01 2.55076013e-01 3.08641975e-01\n",
      "  3.67309458e-01 4.31078461e-01 4.99948985e-01 5.73921028e-01\n",
      "  6.52994592e-01 7.37169677e-01 8.26446281e-01 9.20824406e-01\n",
      "  1.02030405e+00 1.12488522e+00 1.23456790e+00 1.34935211e+00\n",
      "  1.46923783e+00 1.59422508e+00 1.72431385e+00 1.85950413e+00\n",
      "  1.99979594e+00 2.14518927e+00 2.29568411e+00 2.45128048e+00\n",
      "  2.61197837e+00 2.77777778e+00 2.94867871e+00 3.12468115e+00\n",
      "  3.30578512e+00 3.49199061e+00 3.68329762e+00 3.87970615e+00\n",
      "  4.08121620e+00 4.28782777e+00 4.49954086e+00 4.71635547e+00\n",
      "  4.93827160e+00 5.16528926e+00 5.39740843e+00 5.63462912e+00\n",
      "  5.87695133e+00 6.12437506e+00 6.37690032e+00 6.63452709e+00\n",
      "  6.89725538e+00 7.16508520e+00 7.43801653e+00 7.71604938e+00\n",
      "  7.99918376e+00 8.28741965e+00 8.58075707e+00 8.87919600e+00\n",
      "  9.18273646e+00 9.49137843e+00 9.80512193e+00 1.01239669e+01\n",
      "  1.04479135e+01 1.07769615e+01 1.11111111e+01 1.14503622e+01\n",
      "  1.17947148e+01 1.21441690e+01 1.24987246e+01 1.28583818e+01\n",
      "  1.32231405e+01 1.35930007e+01 1.39679625e+01 1.43480257e+01\n",
      "  1.47331905e+01 1.51234568e+01 1.55188246e+01 1.59192939e+01\n",
      "  1.63248648e+01 1.67355372e+01 1.71513111e+01 1.75721865e+01\n",
      "  1.79981635e+01 1.84292419e+01 1.88654219e+01 1.93067034e+01\n",
      "  1.97530864e+01 2.02045710e+01 2.06611570e+01 2.11228446e+01\n",
      "  2.15896337e+01 2.20615243e+01 2.25385165e+01 2.30206101e+01\n",
      "  2.35078053e+01 2.40001020e+01 2.44975003e+01 2.50000000e+01]]\n",
      "(3, 100)\n",
      "[[1.00000000e+00 0.00000000e+00 0.00000000e+00]\n",
      " [1.00000000e+00 5.05050505e-02 2.55076013e-03]\n",
      " [1.00000000e+00 1.01010101e-01 1.02030405e-02]\n",
      " [1.00000000e+00 1.51515152e-01 2.29568411e-02]\n",
      " [1.00000000e+00 2.02020202e-01 4.08121620e-02]\n",
      " [1.00000000e+00 2.52525253e-01 6.37690032e-02]\n",
      " [1.00000000e+00 3.03030303e-01 9.18273646e-02]\n",
      " [1.00000000e+00 3.53535354e-01 1.24987246e-01]\n",
      " [1.00000000e+00 4.04040404e-01 1.63248648e-01]\n",
      " [1.00000000e+00 4.54545455e-01 2.06611570e-01]\n",
      " [1.00000000e+00 5.05050505e-01 2.55076013e-01]\n",
      " [1.00000000e+00 5.55555556e-01 3.08641975e-01]\n",
      " [1.00000000e+00 6.06060606e-01 3.67309458e-01]\n",
      " [1.00000000e+00 6.56565657e-01 4.31078461e-01]\n",
      " [1.00000000e+00 7.07070707e-01 4.99948985e-01]\n",
      " [1.00000000e+00 7.57575758e-01 5.73921028e-01]\n",
      " [1.00000000e+00 8.08080808e-01 6.52994592e-01]\n",
      " [1.00000000e+00 8.58585859e-01 7.37169677e-01]\n",
      " [1.00000000e+00 9.09090909e-01 8.26446281e-01]\n",
      " [1.00000000e+00 9.59595960e-01 9.20824406e-01]\n",
      " [1.00000000e+00 1.01010101e+00 1.02030405e+00]\n",
      " [1.00000000e+00 1.06060606e+00 1.12488522e+00]\n",
      " [1.00000000e+00 1.11111111e+00 1.23456790e+00]\n",
      " [1.00000000e+00 1.16161616e+00 1.34935211e+00]\n",
      " [1.00000000e+00 1.21212121e+00 1.46923783e+00]\n",
      " [1.00000000e+00 1.26262626e+00 1.59422508e+00]\n",
      " [1.00000000e+00 1.31313131e+00 1.72431385e+00]\n",
      " [1.00000000e+00 1.36363636e+00 1.85950413e+00]\n",
      " [1.00000000e+00 1.41414141e+00 1.99979594e+00]\n",
      " [1.00000000e+00 1.46464646e+00 2.14518927e+00]\n",
      " [1.00000000e+00 1.51515152e+00 2.29568411e+00]\n",
      " [1.00000000e+00 1.56565657e+00 2.45128048e+00]\n",
      " [1.00000000e+00 1.61616162e+00 2.61197837e+00]\n",
      " [1.00000000e+00 1.66666667e+00 2.77777778e+00]\n",
      " [1.00000000e+00 1.71717172e+00 2.94867871e+00]\n",
      " [1.00000000e+00 1.76767677e+00 3.12468115e+00]\n",
      " [1.00000000e+00 1.81818182e+00 3.30578512e+00]\n",
      " [1.00000000e+00 1.86868687e+00 3.49199061e+00]\n",
      " [1.00000000e+00 1.91919192e+00 3.68329762e+00]\n",
      " [1.00000000e+00 1.96969697e+00 3.87970615e+00]\n",
      " [1.00000000e+00 2.02020202e+00 4.08121620e+00]\n",
      " [1.00000000e+00 2.07070707e+00 4.28782777e+00]\n",
      " [1.00000000e+00 2.12121212e+00 4.49954086e+00]\n",
      " [1.00000000e+00 2.17171717e+00 4.71635547e+00]\n",
      " [1.00000000e+00 2.22222222e+00 4.93827160e+00]\n",
      " [1.00000000e+00 2.27272727e+00 5.16528926e+00]\n",
      " [1.00000000e+00 2.32323232e+00 5.39740843e+00]\n",
      " [1.00000000e+00 2.37373737e+00 5.63462912e+00]\n",
      " [1.00000000e+00 2.42424242e+00 5.87695133e+00]\n",
      " [1.00000000e+00 2.47474747e+00 6.12437506e+00]\n",
      " [1.00000000e+00 2.52525253e+00 6.37690032e+00]\n",
      " [1.00000000e+00 2.57575758e+00 6.63452709e+00]\n",
      " [1.00000000e+00 2.62626263e+00 6.89725538e+00]\n",
      " [1.00000000e+00 2.67676768e+00 7.16508520e+00]\n",
      " [1.00000000e+00 2.72727273e+00 7.43801653e+00]\n",
      " [1.00000000e+00 2.77777778e+00 7.71604938e+00]\n",
      " [1.00000000e+00 2.82828283e+00 7.99918376e+00]\n",
      " [1.00000000e+00 2.87878788e+00 8.28741965e+00]\n",
      " [1.00000000e+00 2.92929293e+00 8.58075707e+00]\n",
      " [1.00000000e+00 2.97979798e+00 8.87919600e+00]\n",
      " [1.00000000e+00 3.03030303e+00 9.18273646e+00]\n",
      " [1.00000000e+00 3.08080808e+00 9.49137843e+00]\n",
      " [1.00000000e+00 3.13131313e+00 9.80512193e+00]\n",
      " [1.00000000e+00 3.18181818e+00 1.01239669e+01]\n",
      " [1.00000000e+00 3.23232323e+00 1.04479135e+01]\n",
      " [1.00000000e+00 3.28282828e+00 1.07769615e+01]\n",
      " [1.00000000e+00 3.33333333e+00 1.11111111e+01]\n",
      " [1.00000000e+00 3.38383838e+00 1.14503622e+01]\n",
      " [1.00000000e+00 3.43434343e+00 1.17947148e+01]\n",
      " [1.00000000e+00 3.48484848e+00 1.21441690e+01]\n",
      " [1.00000000e+00 3.53535354e+00 1.24987246e+01]\n",
      " [1.00000000e+00 3.58585859e+00 1.28583818e+01]\n",
      " [1.00000000e+00 3.63636364e+00 1.32231405e+01]\n",
      " [1.00000000e+00 3.68686869e+00 1.35930007e+01]\n",
      " [1.00000000e+00 3.73737374e+00 1.39679625e+01]\n",
      " [1.00000000e+00 3.78787879e+00 1.43480257e+01]\n",
      " [1.00000000e+00 3.83838384e+00 1.47331905e+01]\n",
      " [1.00000000e+00 3.88888889e+00 1.51234568e+01]\n",
      " [1.00000000e+00 3.93939394e+00 1.55188246e+01]\n",
      " [1.00000000e+00 3.98989899e+00 1.59192939e+01]\n",
      " [1.00000000e+00 4.04040404e+00 1.63248648e+01]\n",
      " [1.00000000e+00 4.09090909e+00 1.67355372e+01]\n",
      " [1.00000000e+00 4.14141414e+00 1.71513111e+01]\n",
      " [1.00000000e+00 4.19191919e+00 1.75721865e+01]\n",
      " [1.00000000e+00 4.24242424e+00 1.79981635e+01]\n",
      " [1.00000000e+00 4.29292929e+00 1.84292419e+01]\n",
      " [1.00000000e+00 4.34343434e+00 1.88654219e+01]\n",
      " [1.00000000e+00 4.39393939e+00 1.93067034e+01]\n",
      " [1.00000000e+00 4.44444444e+00 1.97530864e+01]\n",
      " [1.00000000e+00 4.49494949e+00 2.02045710e+01]\n",
      " [1.00000000e+00 4.54545455e+00 2.06611570e+01]\n",
      " [1.00000000e+00 4.59595960e+00 2.11228446e+01]\n",
      " [1.00000000e+00 4.64646465e+00 2.15896337e+01]\n",
      " [1.00000000e+00 4.69696970e+00 2.20615243e+01]\n",
      " [1.00000000e+00 4.74747475e+00 2.25385165e+01]\n",
      " [1.00000000e+00 4.79797980e+00 2.30206101e+01]\n",
      " [1.00000000e+00 4.84848485e+00 2.35078053e+01]\n",
      " [1.00000000e+00 4.89898990e+00 2.40001020e+01]\n",
      " [1.00000000e+00 4.94949495e+00 2.44975003e+01]\n",
      " [1.00000000e+00 5.00000000e+00 2.50000000e+01]]\n",
      "(100, 3)\n"
     ]
    }
   ],
   "source": [
    "\n",
    "x0 = np.ones((1, len(x))) \n",
    "x1 = x.reshape((1, len(x)))  \n",
    "x2 = (x1**2).reshape((1, len(x))) \n",
    "\n",
    "Ans = np.concatenate((x0, x1, x2), axis=0)\n",
    "print(Ans)\n",
    "print(Ans.shape)\n",
    "\n",
    "X = np.transpose(Ans)\n",
    "print(X)\n",
    "print(X.shape)\n",
    "\n"
   ]
  },
  {
   "cell_type": "markdown",
   "metadata": {},
   "source": [
    "### 問3. `ndarray`の結合\n",
    "\n",
    "以下の3つの`ndarray`を垂直方向に結合した2次元配列を転置した行列 `X` を定義しなさい．\n",
    "\n",
    "- x0: 長さが `x` と同じで要素が全て1の`ndarray`\n",
    "- x1: 観測値 `x` の各要素を1乗した`ndarray`\n",
    "- x2: 観測値 `x` の各要素を2乗した`ndarray`\n",
    "\n",
    "例： $x = (1, 2, 3)$ のとき，\n",
    "\n",
    "$$\n",
    "x_0 = (1, 1, 1)\\\\\n",
    "x_1 = (1, 2, 3)\\\\\n",
    "x_2 = (1, 4, 9)\n",
    "$$\n",
    "\n",
    "だから，\n",
    "\n",
    "$$\n",
    "X = \\left(\n",
    "\\begin{array}{ccc}\n",
    "    1 & 1 & 1 \\\\\n",
    "    1 & 2 & 3 \\\\\n",
    "    1 & 4 & 9\n",
    "\\end{array}\n",
    "\\right)^T\n",
    "= \\left(\n",
    "\\begin{array}{ccc}\n",
    "    1 & 1 & 1 \\\\\n",
    "    1 & 2 & 4 \\\\\n",
    "    1 & 3 & 9\n",
    "\\end{array}\n",
    "\\right)\n",
    "$$\n",
    "\n",
    "ちなみに，機械学習では `X` のような行列を計画行列と呼びます．"
   ]
  },
  {
   "cell_type": "markdown",
   "metadata": {},
   "source": [
    "---"
   ]
  },
  {
   "cell_type": "markdown",
   "metadata": {},
   "source": [
    "### 問4. 線形代数\n",
    "\n",
    "観測値 `x, t` をもとに真の関数 `y` を2次関数で回帰しなさい．\n",
    "\n",
    "任意の2次関数は $y(x) = w_0 + w_1 x + w_2 x^2$ と表すことができます．  \n",
    "なので，パラメータのベクトル $\\mathbf{w} = (w_0, w_1, w_2)$ を求めれば良いことになります．\n",
    "\n",
    "これは以下の正規方程式から求めることができます．\n",
    "\n",
    "$ \\mathbf{w} = (X^T X)^{-1} X^T \\mathbf{t} $\n",
    "\n",
    "この式の導出はdev_data勉強会で学びます．\n",
    "\n",
    "行列の積が多い場合は`np.dot`を使わない方が簡潔に書けます．"
   ]
  },
  {
   "cell_type": "code",
   "execution_count": null,
   "metadata": {},
   "outputs": [],
   "source": [
    "w0, w1, w2 = #TODO\n",
    "pred_y = w0 + w1 * x + w2 * x ** 2"
   ]
  },
  {
   "cell_type": "markdown",
   "metadata": {},
   "source": [
    "---"
   ]
  },
  {
   "cell_type": "markdown",
   "metadata": {},
   "source": [
    "### 結果\n",
    "\n",
    "先ほどのグラフに真の関数(緑)と回帰曲線(赤)を重ねると以下のようになります．"
   ]
  },
  {
   "cell_type": "code",
   "execution_count": 9,
   "metadata": {},
   "outputs": [
    {
     "ename": "NameError",
     "evalue": "name 't' is not defined",
     "output_type": "error",
     "traceback": [
      "\u001b[1;31m---------------------------------------------------------------------------\u001b[0m",
      "\u001b[1;31mNameError\u001b[0m                                 Traceback (most recent call last)",
      "Cell \u001b[1;32mIn[9], line 1\u001b[0m\n\u001b[1;32m----> 1\u001b[0m plt\u001b[38;5;241m.\u001b[39mscatter(x, \u001b[43mt\u001b[49m)\n\u001b[0;32m      2\u001b[0m plt\u001b[38;5;241m.\u001b[39mplot(x, pred_y, linewidth\u001b[38;5;241m=\u001b[39m\u001b[38;5;241m5\u001b[39m, color\u001b[38;5;241m=\u001b[39m\u001b[38;5;124m\"\u001b[39m\u001b[38;5;124mred\u001b[39m\u001b[38;5;124m\"\u001b[39m, label\u001b[38;5;241m=\u001b[39m\u001b[38;5;124m\"\u001b[39m\u001b[38;5;124mpred\u001b[39m\u001b[38;5;124m\"\u001b[39m)\n\u001b[0;32m      3\u001b[0m plt\u001b[38;5;241m.\u001b[39mplot(x, y(x), linewidth\u001b[38;5;241m=\u001b[39m\u001b[38;5;241m5\u001b[39m, color\u001b[38;5;241m=\u001b[39m\u001b[38;5;124m\"\u001b[39m\u001b[38;5;124mgreen\u001b[39m\u001b[38;5;124m\"\u001b[39m, label\u001b[38;5;241m=\u001b[39m\u001b[38;5;124m\"\u001b[39m\u001b[38;5;124mtrue\u001b[39m\u001b[38;5;124m\"\u001b[39m)\n",
      "\u001b[1;31mNameError\u001b[0m: name 't' is not defined"
     ]
    }
   ],
   "source": [
    "plt.scatter(x, t)\n",
    "plt.plot(x, pred_y, linewidth=5, color=\"red\", label=\"pred\")\n",
    "plt.plot(x, y(x), linewidth=5, color=\"green\", label=\"true\")\n",
    "plt.legend()"
   ]
  },
  {
   "cell_type": "markdown",
   "metadata": {},
   "source": [
    "今回使った手法は 真の関数 `y` の定義を変更するとその他のコードを全く変更しなくても同様に回帰することができます．\n",
    "\n",
    "例えば以下のように変更したらその関数を回帰します．\n",
    "\n",
    "```python\n",
    "def y(x):\n",
    "    \"\"\"真の関数\"\"\"\n",
    "    return 5 * np.sin(np.pi * x / 5)\n",
    "```\n",
    "dev_data勉強会で詳しくやりますが，この回帰曲線の表現力は2次までです．\n",
    "カーブが2つ以上の曲線を回帰したい場合は問3の計画行列の列数を　`x3, x4...`　のように増やせば表現力が上がります．"
   ]
  },
  {
   "cell_type": "code",
   "execution_count": 32,
   "metadata": {},
   "outputs": [
    {
     "name": "stdout",
     "output_type": "stream",
     "text": [
      "[[ 4.06308395]\n",
      " [-6.09546501]\n",
      " [ 1.20719993]]\n",
      "(3, 1)\n",
      "<function <lambda> at 0x000002487BC8B060>\n"
     ]
    },
    {
     "data": {
      "image/png": "[encoded data removed]",
      "text/plain": [
       "<Figure size 800x600 with 1 Axes>"
      ]
     },
     "metadata": {},
     "output_type": "display_data"
    }
   ],
   "source": [
    "Xt = np.transpose(X)\n",
    "XtX = np.dot(Xt,X)\n",
    "XtX_inv = np.linalg.inv(XtX)\n",
    "XtX_inv_Xt = np.dot(XtX_inv,Xt)\n",
    "w = np.dot(XtX_inv_Xt,t.reshape(-1,1))\n",
    "print(w)\n",
    "print(w.shape)\n",
    "import math\n",
    "y = lambda x: w[0,0] + w[1,0]*x + w[2,0]*x**2\n",
    "print(y)\n",
    "\n",
    "#以下chatgpt\n",
    "\n",
    "import matplotlib.pyplot as plt\n",
    "import numpy as np\n",
    "\n",
    "x_vals = np.linspace(0, 5, 100)\n",
    "y_vals = y(x_vals)\n",
    "\n",
    "\n",
    "plt.figure(figsize=(8, 6))\n",
    "plt.scatter(x, t, label='Data', color='blue')\n",
    "plt.plot(x_vals, y_vals, label='Fitted Quadratic Function', color='red')\n",
    "plt.xlabel('x')\n",
    "plt.ylabel('t')\n",
    "plt.title('Quadratic Function Fit')\n",
    "plt.grid(True)\n",
    "plt.legend()\n",
    "plt.show()"
   ]
  }
 ],
 "metadata": {
  "kernelspec": {
   "display_name": "Python 3",
   "language": "python",
   "name": "python3"
  },
  "language_info": {
   "codemirror_mode": {
    "name": "ipython",
    "version": 3
   },
   "file_extension": ".py",
   "mimetype": "text/x-python",
   "name": "python",
   "nbconvert_exporter": "python",
   "pygments_lexer": "ipython3",
   "version": "3.11.8"
  }
 },
 "nbformat": 4,
 "nbformat_minor": 4
}
